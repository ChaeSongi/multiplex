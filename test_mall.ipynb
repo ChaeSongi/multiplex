{
  "nbformat": 4,
  "nbformat_minor": 0,
  "metadata": {
    "colab": {
      "name": "test_mall.ipynb",
      "version": "0.3.2",
      "provenance": [],
      "collapsed_sections": [],
      "include_colab_link": true
    },
    "kernelspec": {
      "name": "python3",
      "display_name": "Python 3"
    }
  },
  "cells": [
    {
      "cell_type": "markdown",
      "metadata": {
        "id": "view-in-github",
        "colab_type": "text"
      },
      "source": [
        "[View in Colaboratory](https://colab.research.google.com/github/ChaeSongi/m3-F/blob/tech/test_mall.ipynb)"
      ]
    },
    {
      "metadata": {
        "id": "7-vrcBzQtQAB",
        "colab_type": "code",
        "colab": {
          "base_uri": "https://localhost:8080/",
          "height": 442
        },
        "outputId": "93949e5a-6236-4037-9ad4-280bc4bbea64"
      },
      "cell_type": "code",
      "source": [
        "!pip install googlemaps\n",
        "!pip show googlemaps"
      ],
      "execution_count": 1,
      "outputs": [
        {
          "output_type": "stream",
          "text": [
            "Collecting googlemaps\n",
            "  Downloading https://files.pythonhosted.org/packages/5a/3d/13b4230f3c1b8a586cdc8d8179f3c6af771c11247f8de9c166d1ab37f51d/googlemaps-3.0.2.tar.gz\n",
            "Requirement already satisfied: requests<3.0,>=2.11.1 in /usr/local/lib/python3.6/dist-packages (from googlemaps) (2.18.4)\n",
            "Requirement already satisfied: certifi>=2017.4.17 in /usr/local/lib/python3.6/dist-packages (from requests<3.0,>=2.11.1->googlemaps) (2018.4.16)\n",
            "Requirement already satisfied: idna<2.7,>=2.5 in /usr/local/lib/python3.6/dist-packages (from requests<3.0,>=2.11.1->googlemaps) (2.6)\n",
            "Requirement already satisfied: urllib3<1.23,>=1.21.1 in /usr/local/lib/python3.6/dist-packages (from requests<3.0,>=2.11.1->googlemaps) (1.22)\n",
            "Requirement already satisfied: chardet<3.1.0,>=3.0.2 in /usr/local/lib/python3.6/dist-packages (from requests<3.0,>=2.11.1->googlemaps) (3.0.4)\n",
            "Building wheels for collected packages: googlemaps\n",
            "  Running setup.py bdist_wheel for googlemaps ... \u001b[?25l-\b \b\\\b \bdone\n",
            "\u001b[?25h  Stored in directory: /content/.cache/pip/wheels/3c/3f/25/ce6d7722dba07e5d4a12d27ab38f3d7add65ef43171b02c819\n",
            "Successfully built googlemaps\n",
            "Installing collected packages: googlemaps\n",
            "Successfully installed googlemaps-3.0.2\n",
            "Name: googlemaps\n",
            "Version: 3.0.2\n",
            "Summary: Python client library for Google Maps API Web Services\n",
            "Home-page: https://github.com/googlemaps/google-maps-services-python\n",
            "Author: UNKNOWN\n",
            "Author-email: UNKNOWN\n",
            "License: Apache 2.0\n",
            "Location: /usr/local/lib/python3.6/dist-packages\n",
            "Requires: requests\n",
            "Required-by: \n"
          ],
          "name": "stdout"
        }
      ]
    },
    {
      "metadata": {
        "id": "r-mzyHvEtQlD",
        "colab_type": "code",
        "colab": {
          "base_uri": "https://localhost:8080/",
          "height": 547
        },
        "outputId": "ad3aee53-0fa6-4583-93c6-60290d871a00"
      },
      "cell_type": "code",
      "source": [
        "!pip install folium\n",
        "!pip show folium"
      ],
      "execution_count": 2,
      "outputs": [
        {
          "output_type": "stream",
          "text": [
            "Collecting folium\n",
            "\u001b[?25l  Downloading https://files.pythonhosted.org/packages/07/37/456fb3699ed23caa0011f8b90d9cad94445eddc656b601e6268090de35f5/folium-0.5.0.tar.gz (79kB)\n",
            "\u001b[K    100% |████████████████████████████████| 81kB 2.6MB/s \n",
            "\u001b[?25hCollecting branca (from folium)\n",
            "  Downloading https://files.pythonhosted.org/packages/b5/18/13c018655f722896f25791f1db687db5671bd79285e05b3dd8c309b36414/branca-0.3.0-py3-none-any.whl\n",
            "Requirement already satisfied: jinja2 in /usr/local/lib/python3.6/dist-packages (from folium) (2.10)\n",
            "Requirement already satisfied: requests in /usr/local/lib/python3.6/dist-packages (from folium) (2.18.4)\n",
            "Requirement already satisfied: six in /usr/local/lib/python3.6/dist-packages (from folium) (1.11.0)\n",
            "Requirement already satisfied: MarkupSafe>=0.23 in /usr/local/lib/python3.6/dist-packages (from jinja2->folium) (1.0)\n",
            "Requirement already satisfied: idna<2.7,>=2.5 in /usr/local/lib/python3.6/dist-packages (from requests->folium) (2.6)\n",
            "Requirement already satisfied: chardet<3.1.0,>=3.0.2 in /usr/local/lib/python3.6/dist-packages (from requests->folium) (3.0.4)\n",
            "Requirement already satisfied: urllib3<1.23,>=1.21.1 in /usr/local/lib/python3.6/dist-packages (from requests->folium) (1.22)\n",
            "Requirement already satisfied: certifi>=2017.4.17 in /usr/local/lib/python3.6/dist-packages (from requests->folium) (2018.4.16)\n",
            "Building wheels for collected packages: folium\n",
            "  Running setup.py bdist_wheel for folium ... \u001b[?25l-\b \b\\\b \bdone\n",
            "\u001b[?25h  Stored in directory: /content/.cache/pip/wheels/f8/98/ff/954791afc47740d554f0d9e5885fa09dd60c2265d42578e665\n",
            "Successfully built folium\n",
            "Installing collected packages: branca, folium\n",
            "Successfully installed branca-0.3.0 folium-0.5.0\n",
            "Name: folium\n",
            "Version: 0.5.0\n",
            "Summary: Make beautiful maps with Leaflet.js & Python\n",
            "Home-page: https://github.com/python-visualization/folium\n",
            "Author: Rob Story\n",
            "Author-email: wrobstory@gmail.com\n",
            "License: Copyright (C) 2013, Rob Story\n",
            "Location: /usr/local/lib/python3.6/dist-packages\n",
            "Requires: jinja2, six, branca, requests\n",
            "Required-by: \n"
          ],
          "name": "stdout"
        }
      ]
    },
    {
      "metadata": {
        "id": "lmawiJgZtR8T",
        "colab_type": "code",
        "colab": {}
      },
      "cell_type": "code",
      "source": [
        "import pandas as pd"
      ],
      "execution_count": 0,
      "outputs": []
    },
    {
      "metadata": {
        "id": "aJILnTxJtTTu",
        "colab_type": "code",
        "colab": {}
      },
      "cell_type": "code",
      "source": [
        "!pip install --upgrade -q gspread\n",
        "from google.colab import auth\n",
        "\n",
        "auth.authenticate_user()\n",
        "\n",
        "import gspread\n",
        "from oauth2client.client import GoogleCredentials\n",
        "\n",
        "def get_sheet(title, sheet_name):\n",
        "  gc = gspread.authorize(GoogleCredentials.get_application_default())\n",
        "  return gc.open(title).worksheet(sheet_name)"
      ],
      "execution_count": 0,
      "outputs": []
    },
    {
      "metadata": {
        "id": "qpQTJYw1tUyv",
        "colab_type": "code",
        "colab": {}
      },
      "cell_type": "code",
      "source": [
        "def get_df(sheet_name):\n",
        "  sheet = get_sheet('test', sheet_name)\n",
        "  \n",
        "  rows = sheet.get_all_values()\n",
        "  df = pd.DataFrame.from_records(rows)\n",
        "  \n",
        "  df.columns = df.iloc[0]\n",
        "  df = df.reindex(df.index.drop(0))\n",
        "  return df"
      ],
      "execution_count": 0,
      "outputs": []
    },
    {
      "metadata": {
        "id": "WB0Zf_eyt7Ds",
        "colab_type": "code",
        "colab": {
          "base_uri": "https://localhost:8080/",
          "height": 34
        },
        "outputId": "3bcb93f5-38dc-4348-d2d6-f97cfd967bd3"
      },
      "cell_type": "code",
      "source": [
        "test = get_df('시트1')\n",
        "test.shape"
      ],
      "execution_count": 8,
      "outputs": [
        {
          "output_type": "execute_result",
          "data": {
            "text/plain": [
              "(11, 2)"
            ]
          },
          "metadata": {
            "tags": []
          },
          "execution_count": 8
        }
      ]
    },
    {
      "metadata": {
        "id": "xRw58ealuD-O",
        "colab_type": "code",
        "colab": {
          "base_uri": "https://localhost:8080/",
          "height": 373
        },
        "outputId": "dcc0f1ba-b280-4f09-950f-0b30685b2355"
      },
      "cell_type": "code",
      "source": [
        "test"
      ],
      "execution_count": 9,
      "outputs": [
        {
          "output_type": "execute_result",
          "data": {
            "text/html": [
              "<div>\n",
              "<style scoped>\n",
              "    .dataframe tbody tr th:only-of-type {\n",
              "        vertical-align: middle;\n",
              "    }\n",
              "\n",
              "    .dataframe tbody tr th {\n",
              "        vertical-align: top;\n",
              "    }\n",
              "\n",
              "    .dataframe thead th {\n",
              "        text-align: right;\n",
              "    }\n",
              "</style>\n",
              "<table border=\"1\" class=\"dataframe\">\n",
              "  <thead>\n",
              "    <tr style=\"text-align: right;\">\n",
              "      <th></th>\n",
              "      <th>MALL</th>\n",
              "      <th>ADREESS</th>\n",
              "    </tr>\n",
              "  </thead>\n",
              "  <tbody>\n",
              "    <tr>\n",
              "      <th>1</th>\n",
              "      <td>스타필드 고양</td>\n",
              "      <td>경기 고양시 덕양구 고양대로 1955</td>\n",
              "    </tr>\n",
              "    <tr>\n",
              "      <th>2</th>\n",
              "      <td>스타필드 하남</td>\n",
              "      <td>경기 하남시 미사대로 750 스타필드 하남</td>\n",
              "    </tr>\n",
              "    <tr>\n",
              "      <th>3</th>\n",
              "      <td>코엑스</td>\n",
              "      <td>서울 강남구 영동대로 513 코엑스</td>\n",
              "    </tr>\n",
              "    <tr>\n",
              "      <th>4</th>\n",
              "      <td>테크노마트</td>\n",
              "      <td>서울 광진구 광나루로56길 85 테크노-마트21</td>\n",
              "    </tr>\n",
              "    <tr>\n",
              "      <th>5</th>\n",
              "      <td>아이파크몰</td>\n",
              "      <td>서울 용산구 한강대로 23길 55 (한강로 3가)</td>\n",
              "    </tr>\n",
              "    <tr>\n",
              "      <th>6</th>\n",
              "      <td>가든파이브</td>\n",
              "      <td>서울 송파구 충민로 66 가든파이브라이프</td>\n",
              "    </tr>\n",
              "    <tr>\n",
              "      <th>7</th>\n",
              "      <td>타임스퀘어</td>\n",
              "      <td>서울 영등포구 영중로 15 타임스퀘어</td>\n",
              "    </tr>\n",
              "    <tr>\n",
              "      <th>8</th>\n",
              "      <td>다큐브시티</td>\n",
              "      <td>서울시 구로구 경인로 662</td>\n",
              "    </tr>\n",
              "    <tr>\n",
              "      <th>9</th>\n",
              "      <td>김포몰</td>\n",
              "      <td>서울 강서구 하늘길 77</td>\n",
              "    </tr>\n",
              "    <tr>\n",
              "      <th>10</th>\n",
              "      <td>롯데몰 은평</td>\n",
              "      <td>서울 은평구 통일로 1050</td>\n",
              "    </tr>\n",
              "    <tr>\n",
              "      <th>11</th>\n",
              "      <td>여의도 IFC몰</td>\n",
              "      <td>서울 영등포구 국제금융로 10 IFC몰</td>\n",
              "    </tr>\n",
              "  </tbody>\n",
              "</table>\n",
              "</div>"
            ],
            "text/plain": [
              "0       MALL                      ADREESS\n",
              "1    스타필드 고양         경기 고양시 덕양구 고양대로 1955\n",
              "2    스타필드 하남      경기 하남시 미사대로 750 스타필드 하남\n",
              "3        코엑스          서울 강남구 영동대로 513 코엑스\n",
              "4      테크노마트   서울 광진구 광나루로56길 85 테크노-마트21\n",
              "5      아이파크몰  서울 용산구 한강대로 23길 55 (한강로 3가)\n",
              "6      가든파이브       서울 송파구 충민로 66 가든파이브라이프\n",
              "7      타임스퀘어         서울 영등포구 영중로 15 타임스퀘어\n",
              "8      다큐브시티              서울시 구로구 경인로 662\n",
              "9        김포몰                서울 강서구 하늘길 77\n",
              "10    롯데몰 은평              서울 은평구 통일로 1050\n",
              "11  여의도 IFC몰        서울 영등포구 국제금융로 10 IFC몰"
            ]
          },
          "metadata": {
            "tags": []
          },
          "execution_count": 9
        }
      ]
    },
    {
      "metadata": {
        "id": "CmOxScmOuZ7u",
        "colab_type": "code",
        "colab": {}
      },
      "cell_type": "code",
      "source": [
        "import googlemaps\n",
        "gmaps_key = ' 본인의 키를 넣어주세요 '\n",
        "gmaps = googlemaps.Client(key=gmaps_key)"
      ],
      "execution_count": 0,
      "outputs": []
    },
    {
      "metadata": {
        "id": "JVK0L6e5udOp",
        "colab_type": "code",
        "colab": {
          "base_uri": "https://localhost:8080/",
          "height": 228
        },
        "outputId": "8f900ab3-0064-482b-8ac3-d16905d17d18"
      },
      "cell_type": "code",
      "source": [
        "test_name = test['ADREESS'].str.replace('\\n', '')\n",
        "test_name"
      ],
      "execution_count": 11,
      "outputs": [
        {
          "output_type": "execute_result",
          "data": {
            "text/plain": [
              "1            경기 고양시 덕양구 고양대로 1955\n",
              "2         경기 하남시 미사대로 750 스타필드 하남\n",
              "3             서울 강남구 영동대로 513 코엑스\n",
              "4      서울 광진구 광나루로56길 85 테크노-마트21\n",
              "5     서울 용산구 한강대로 23길 55 (한강로 3가)\n",
              "6          서울 송파구 충민로 66 가든파이브라이프\n",
              "7            서울 영등포구 영중로 15 타임스퀘어\n",
              "8                 서울시 구로구 경인로 662\n",
              "9                   서울 강서구 하늘길 77\n",
              "10                서울 은평구 통일로 1050\n",
              "11          서울 영등포구 국제금융로 10 IFC몰\n",
              "Name: ADREESS, dtype: object"
            ]
          },
          "metadata": {
            "tags": []
          },
          "execution_count": 11
        }
      ]
    },
    {
      "metadata": {
        "id": "lPqDHjWDuomA",
        "colab_type": "code",
        "colab": {
          "base_uri": "https://localhost:8080/",
          "height": 210
        },
        "outputId": "c1346c9a-64ae-45a3-8f49-76fd7b8ae36e"
      },
      "cell_type": "code",
      "source": [
        "test_name = test['ADREESS']\n",
        "test_addreess = []\n",
        "test_lat = []\n",
        "test_lng = []\n",
        "\n",
        "for name in test_name:\n",
        "    tmp = gmaps.geocode(name, language='ko')\n",
        "    test_addreess.append(tmp[0].get(\"formatted_address\"))\n",
        "    \n",
        "    tmp_loc = tmp[0].get(\"geometry\")\n",
        "\n",
        "    test_lat.append(tmp_loc['location']['lat'])\n",
        "    test_lng.append(tmp_loc['location']['lng'])\n",
        "    \n",
        "    print(name + '-->' + tmp[0].get(\"formatted_address\"))"
      ],
      "execution_count": 12,
      "outputs": [
        {
          "output_type": "stream",
          "text": [
            "경기 고양시 덕양구 고양대로 1955-->대한민국 경기도 고양시 덕양구 창릉동 고양대로 1955\n",
            "경기 하남시 미사대로 750 스타필드 하남-->750 Misa-daero, 하남시 경기도 대한민국\n",
            "서울 강남구 영동대로 513 코엑스-->대한민국 서울특별시 강남구 삼성1동 영동대로 513\n",
            "서울 광진구 광나루로56길 85 테크노-마트21-->대한민국 서울특별시 광진구 구의동 546-4\n",
            "서울 용산구 한강대로 23길 55 (한강로 3가)-->대한민국 서울특별시 용산구 한강로3가 한강대로23길 55\n",
            "서울 송파구 충민로 66 가든파이브라이프-->대한민국 서울특별시 송파구 문정2동 충민로 66\n",
            "서울 영등포구 영중로 15 타임스퀘어-->대한민국 서울특별시 영등포구 영등포동 영중로 15\n",
            "서울시 구로구 경인로 662-->대한민국 서울특별시 구로구 신도림동 경인로 662\n",
            "서울 강서구 하늘길 77-->대한민국 서울특별시 강서구 방화2동 하늘길 지하 77\n",
            "서울 은평구 통일로 1050-->대한민국 서울특별시 은평구 진관동 통일로 1050\n",
            "서울 영등포구 국제금융로 10 IFC몰-->대한민국 서울특별시 영등포구 여의도동 국제금융로 10\n"
          ],
          "name": "stdout"
        }
      ]
    },
    {
      "metadata": {
        "id": "FGsOIF5Su4Qu",
        "colab_type": "code",
        "colab": {}
      },
      "cell_type": "code",
      "source": [
        "test['위도'] = test_lat\n",
        "test['경도'] = test_lng\n",
        "test['변환주소'] = test_addreess"
      ],
      "execution_count": 0,
      "outputs": []
    },
    {
      "metadata": {
        "id": "IXyFaAQ0vC82",
        "colab_type": "code",
        "colab": {
          "base_uri": "https://localhost:8080/",
          "height": 34
        },
        "outputId": "958b8d45-2953-4287-f0c9-360dee0c05d2"
      },
      "cell_type": "code",
      "source": [
        "test['ADREESS'].shape"
      ],
      "execution_count": 15,
      "outputs": [
        {
          "output_type": "execute_result",
          "data": {
            "text/plain": [
              "(11,)"
            ]
          },
          "metadata": {
            "tags": []
          },
          "execution_count": 15
        }
      ]
    },
    {
      "metadata": {
        "id": "Iph485dIvGHs",
        "colab_type": "code",
        "colab": {
          "base_uri": "https://localhost:8080/",
          "height": 34
        },
        "outputId": "67b45f47-e2a3-4b68-e621-51220460627e"
      },
      "cell_type": "code",
      "source": [
        "len(test_lat)"
      ],
      "execution_count": 16,
      "outputs": [
        {
          "output_type": "execute_result",
          "data": {
            "text/plain": [
              "11"
            ]
          },
          "metadata": {
            "tags": []
          },
          "execution_count": 16
        }
      ]
    },
    {
      "metadata": {
        "id": "xiMbMt1LvJ-Q",
        "colab_type": "code",
        "colab": {
          "base_uri": "https://localhost:8080/",
          "height": 373
        },
        "outputId": "96488dc3-f414-4c23-b96e-06647be58be0"
      },
      "cell_type": "code",
      "source": [
        "test[['MALL','ADREESS','변환주소', '위도', '경도']]"
      ],
      "execution_count": 20,
      "outputs": [
        {
          "output_type": "execute_result",
          "data": {
            "text/html": [
              "<div>\n",
              "<style scoped>\n",
              "    .dataframe tbody tr th:only-of-type {\n",
              "        vertical-align: middle;\n",
              "    }\n",
              "\n",
              "    .dataframe tbody tr th {\n",
              "        vertical-align: top;\n",
              "    }\n",
              "\n",
              "    .dataframe thead th {\n",
              "        text-align: right;\n",
              "    }\n",
              "</style>\n",
              "<table border=\"1\" class=\"dataframe\">\n",
              "  <thead>\n",
              "    <tr style=\"text-align: right;\">\n",
              "      <th></th>\n",
              "      <th>MALL</th>\n",
              "      <th>ADREESS</th>\n",
              "      <th>변환주소</th>\n",
              "      <th>위도</th>\n",
              "      <th>경도</th>\n",
              "    </tr>\n",
              "  </thead>\n",
              "  <tbody>\n",
              "    <tr>\n",
              "      <th>1</th>\n",
              "      <td>스타필드 고양</td>\n",
              "      <td>경기 고양시 덕양구 고양대로 1955</td>\n",
              "      <td>대한민국 경기도 고양시 덕양구 창릉동 고양대로 1955</td>\n",
              "      <td>37.646780</td>\n",
              "      <td>126.894822</td>\n",
              "    </tr>\n",
              "    <tr>\n",
              "      <th>2</th>\n",
              "      <td>스타필드 하남</td>\n",
              "      <td>경기 하남시 미사대로 750 스타필드 하남</td>\n",
              "      <td>750 Misa-daero, 하남시 경기도 대한민국</td>\n",
              "      <td>37.545614</td>\n",
              "      <td>127.224064</td>\n",
              "    </tr>\n",
              "    <tr>\n",
              "      <th>3</th>\n",
              "      <td>코엑스</td>\n",
              "      <td>서울 강남구 영동대로 513 코엑스</td>\n",
              "      <td>대한민국 서울특별시 강남구 삼성1동 영동대로 513</td>\n",
              "      <td>37.511683</td>\n",
              "      <td>127.059108</td>\n",
              "    </tr>\n",
              "    <tr>\n",
              "      <th>4</th>\n",
              "      <td>테크노마트</td>\n",
              "      <td>서울 광진구 광나루로56길 85 테크노-마트21</td>\n",
              "      <td>대한민국 서울특별시 광진구 구의동 546-4</td>\n",
              "      <td>37.535117</td>\n",
              "      <td>127.095775</td>\n",
              "    </tr>\n",
              "    <tr>\n",
              "      <th>5</th>\n",
              "      <td>아이파크몰</td>\n",
              "      <td>서울 용산구 한강대로 23길 55 (한강로 3가)</td>\n",
              "      <td>대한민국 서울특별시 용산구 한강로3가 한강대로23길 55</td>\n",
              "      <td>37.528854</td>\n",
              "      <td>126.964045</td>\n",
              "    </tr>\n",
              "    <tr>\n",
              "      <th>6</th>\n",
              "      <td>가든파이브</td>\n",
              "      <td>서울 송파구 충민로 66 가든파이브라이프</td>\n",
              "      <td>대한민국 서울특별시 송파구 문정2동 충민로 66</td>\n",
              "      <td>37.477634</td>\n",
              "      <td>127.124943</td>\n",
              "    </tr>\n",
              "    <tr>\n",
              "      <th>7</th>\n",
              "      <td>타임스퀘어</td>\n",
              "      <td>서울 영등포구 영중로 15 타임스퀘어</td>\n",
              "      <td>대한민국 서울특별시 영등포구 영등포동 영중로 15</td>\n",
              "      <td>37.517164</td>\n",
              "      <td>126.903176</td>\n",
              "    </tr>\n",
              "    <tr>\n",
              "      <th>8</th>\n",
              "      <td>다큐브시티</td>\n",
              "      <td>서울시 구로구 경인로 662</td>\n",
              "      <td>대한민국 서울특별시 구로구 신도림동 경인로 662</td>\n",
              "      <td>37.508432</td>\n",
              "      <td>126.888733</td>\n",
              "    </tr>\n",
              "    <tr>\n",
              "      <th>9</th>\n",
              "      <td>김포몰</td>\n",
              "      <td>서울 강서구 하늘길 77</td>\n",
              "      <td>대한민국 서울특별시 강서구 방화2동 하늘길 지하 77</td>\n",
              "      <td>37.566773</td>\n",
              "      <td>126.802512</td>\n",
              "    </tr>\n",
              "    <tr>\n",
              "      <th>10</th>\n",
              "      <td>롯데몰 은평</td>\n",
              "      <td>서울 은평구 통일로 1050</td>\n",
              "      <td>대한민국 서울특별시 은평구 진관동 통일로 1050</td>\n",
              "      <td>37.637515</td>\n",
              "      <td>126.917790</td>\n",
              "    </tr>\n",
              "    <tr>\n",
              "      <th>11</th>\n",
              "      <td>여의도 IFC몰</td>\n",
              "      <td>서울 영등포구 국제금융로 10 IFC몰</td>\n",
              "      <td>대한민국 서울특별시 영등포구 여의도동 국제금융로 10</td>\n",
              "      <td>37.525462</td>\n",
              "      <td>126.925454</td>\n",
              "    </tr>\n",
              "  </tbody>\n",
              "</table>\n",
              "</div>"
            ],
            "text/plain": [
              "0       MALL                      ADREESS                             변환주소  \\\n",
              "1    스타필드 고양         경기 고양시 덕양구 고양대로 1955   대한민국 경기도 고양시 덕양구 창릉동 고양대로 1955   \n",
              "2    스타필드 하남      경기 하남시 미사대로 750 스타필드 하남     750 Misa-daero, 하남시 경기도 대한민국   \n",
              "3        코엑스          서울 강남구 영동대로 513 코엑스     대한민국 서울특별시 강남구 삼성1동 영동대로 513   \n",
              "4      테크노마트   서울 광진구 광나루로56길 85 테크노-마트21         대한민국 서울특별시 광진구 구의동 546-4   \n",
              "5      아이파크몰  서울 용산구 한강대로 23길 55 (한강로 3가)  대한민국 서울특별시 용산구 한강로3가 한강대로23길 55   \n",
              "6      가든파이브       서울 송파구 충민로 66 가든파이브라이프       대한민국 서울특별시 송파구 문정2동 충민로 66   \n",
              "7      타임스퀘어         서울 영등포구 영중로 15 타임스퀘어      대한민국 서울특별시 영등포구 영등포동 영중로 15   \n",
              "8      다큐브시티              서울시 구로구 경인로 662      대한민국 서울특별시 구로구 신도림동 경인로 662   \n",
              "9        김포몰                서울 강서구 하늘길 77    대한민국 서울특별시 강서구 방화2동 하늘길 지하 77   \n",
              "10    롯데몰 은평              서울 은평구 통일로 1050      대한민국 서울특별시 은평구 진관동 통일로 1050   \n",
              "11  여의도 IFC몰        서울 영등포구 국제금융로 10 IFC몰    대한민국 서울특별시 영등포구 여의도동 국제금융로 10   \n",
              "\n",
              "0          위도          경도  \n",
              "1   37.646780  126.894822  \n",
              "2   37.545614  127.224064  \n",
              "3   37.511683  127.059108  \n",
              "4   37.535117  127.095775  \n",
              "5   37.528854  126.964045  \n",
              "6   37.477634  127.124943  \n",
              "7   37.517164  126.903176  \n",
              "8   37.508432  126.888733  \n",
              "9   37.566773  126.802512  \n",
              "10  37.637515  126.917790  \n",
              "11  37.525462  126.925454  "
            ]
          },
          "metadata": {
            "tags": []
          },
          "execution_count": 20
        }
      ]
    },
    {
      "metadata": {
        "id": "_dgVrVtYvR1d",
        "colab_type": "code",
        "colab": {
          "base_uri": "https://localhost:8080/",
          "height": 774
        },
        "outputId": "07fc43cd-8798-4bec-b47a-b19aeb010656"
      },
      "cell_type": "code",
      "source": [
        "import folium\n",
        "geo_df = test\n",
        "\n",
        "map = folium.Map(location=[geo_df['위도'].mean(), geo_df['경도'].mean()], zoom_start=17, tiles='Stamen Toner')\n",
        "\n",
        "for n in geo_df.index:\n",
        "    park_name = geo_df['MALL'][n] \\\n",
        "              + '-' + geo_df['ADREESS'][n]\n",
        "    folium.Marker([geo_df['위도'][n], geo_df['경도'][n]], popup=park_name).add_to(map)\n",
        "    \n",
        "\n",
        "map"
      ],
      "execution_count": 22,
      "outputs": [
        {
          "output_type": "execute_result",
          "data": {
            "text/html": [
              "<div style=\"width:100%;\"><div style=\"position:relative;width:100%;height:0;padding-bottom:60%;\"><iframe src=\"data:text/html;charset=utf-8;base64,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\" style=\"position:absolute;width:100%;height:100%;left:0;top:0;border:none !important;\" allowfullscreen webkitallowfullscreen mozallowfullscreen></iframe></div></div>"
            ],
            "text/plain": [
              "<folium.folium.Map at 0x7ff3f5920048>"
            ]
          },
          "metadata": {
            "tags": []
          },
          "execution_count": 22
        }
      ]
    },
    {
      "metadata": {
        "id": "_dScSv8hws-4",
        "colab_type": "code",
        "colab": {}
      },
      "cell_type": "code",
      "source": [
        ""
      ],
      "execution_count": 0,
      "outputs": []
    }
  ]
}