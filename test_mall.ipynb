{
  "nbformat": 4,
  "nbformat_minor": 0,
  "metadata": {
    "colab": {
      "name": "test_mall.ipynb",
      "version": "0.3.2",
      "provenance": [],
      "collapsed_sections": [],
      "include_colab_link": true
    },
    "kernelspec": {
      "name": "python3",
      "display_name": "Python 3"
    }
  },
  "cells": [
    {
      "cell_type": "markdown",
      "metadata": {
        "id": "view-in-github",
        "colab_type": "text"
      },
      "source": [
        "[View in Colaboratory](https://colab.research.google.com/github/ChaeSongi/m3-F/blob/tech/test_mall.ipynb)"
      ]
    },
    {
      "metadata": {
        "id": "7-vrcBzQtQAB",
        "colab_type": "code",
        "colab": {
          "base_uri": "https://localhost:8080/",
          "height": 422
        },
        "outputId": "a49e1df5-fb16-4298-e82b-567885891614"
      },
      "cell_type": "code",
      "source": [
        "!pip install googlemaps\n",
        "!pip show googlemaps"
      ],
      "execution_count": 1,
      "outputs": [
        {
          "output_type": "stream",
          "text": [
            "Collecting googlemaps\n",
            "  Downloading https://files.pythonhosted.org/packages/5a/3d/13b4230f3c1b8a586cdc8d8179f3c6af771c11247f8de9c166d1ab37f51d/googlemaps-3.0.2.tar.gz\n",
            "Requirement already satisfied: requests<3.0,>=2.11.1 in /usr/local/lib/python3.6/dist-packages (from googlemaps) (2.18.4)\n",
            "Requirement already satisfied: chardet<3.1.0,>=3.0.2 in /usr/local/lib/python3.6/dist-packages (from requests<3.0,>=2.11.1->googlemaps) (3.0.4)\n",
            "Requirement already satisfied: idna<2.7,>=2.5 in /usr/local/lib/python3.6/dist-packages (from requests<3.0,>=2.11.1->googlemaps) (2.6)\n",
            "Requirement already satisfied: certifi>=2017.4.17 in /usr/local/lib/python3.6/dist-packages (from requests<3.0,>=2.11.1->googlemaps) (2018.4.16)\n",
            "Requirement already satisfied: urllib3<1.23,>=1.21.1 in /usr/local/lib/python3.6/dist-packages (from requests<3.0,>=2.11.1->googlemaps) (1.22)\n",
            "Building wheels for collected packages: googlemaps\n",
            "  Running setup.py bdist_wheel for googlemaps ... \u001b[?25l-\b \bdone\n",
            "\u001b[?25h  Stored in directory: /content/.cache/pip/wheels/3c/3f/25/ce6d7722dba07e5d4a12d27ab38f3d7add65ef43171b02c819\n",
            "Successfully built googlemaps\n",
            "Installing collected packages: googlemaps\n",
            "Successfully installed googlemaps-3.0.2\n",
            "Name: googlemaps\n",
            "Version: 3.0.2\n",
            "Summary: Python client library for Google Maps API Web Services\n",
            "Home-page: https://github.com/googlemaps/google-maps-services-python\n",
            "Author: UNKNOWN\n",
            "Author-email: UNKNOWN\n",
            "License: Apache 2.0\n",
            "Location: /usr/local/lib/python3.6/dist-packages\n",
            "Requires: requests\n",
            "Required-by: \n"
          ],
          "name": "stdout"
        }
      ]
    },
    {
      "metadata": {
        "id": "r-mzyHvEtQlD",
        "colab_type": "code",
        "colab": {
          "base_uri": "https://localhost:8080/",
          "height": 527
        },
        "outputId": "3e7a2335-27d6-417f-f33a-7d456bfa701b"
      },
      "cell_type": "code",
      "source": [
        "!pip install folium\n",
        "!pip show folium"
      ],
      "execution_count": 2,
      "outputs": [
        {
          "output_type": "stream",
          "text": [
            "Collecting folium\n",
            "\u001b[?25l  Downloading https://files.pythonhosted.org/packages/07/37/456fb3699ed23caa0011f8b90d9cad94445eddc656b601e6268090de35f5/folium-0.5.0.tar.gz (79kB)\n",
            "\u001b[K    100% |████████████████████████████████| 81kB 4.5MB/s \n",
            "\u001b[?25hCollecting branca (from folium)\n",
            "  Downloading https://files.pythonhosted.org/packages/b5/18/13c018655f722896f25791f1db687db5671bd79285e05b3dd8c309b36414/branca-0.3.0-py3-none-any.whl\n",
            "Requirement already satisfied: jinja2 in /usr/local/lib/python3.6/dist-packages (from folium) (2.10)\n",
            "Requirement already satisfied: requests in /usr/local/lib/python3.6/dist-packages (from folium) (2.18.4)\n",
            "Requirement already satisfied: six in /usr/local/lib/python3.6/dist-packages (from folium) (1.11.0)\n",
            "Requirement already satisfied: MarkupSafe>=0.23 in /usr/local/lib/python3.6/dist-packages (from jinja2->folium) (1.0)\n",
            "Requirement already satisfied: urllib3<1.23,>=1.21.1 in /usr/local/lib/python3.6/dist-packages (from requests->folium) (1.22)\n",
            "Requirement already satisfied: idna<2.7,>=2.5 in /usr/local/lib/python3.6/dist-packages (from requests->folium) (2.6)\n",
            "Requirement already satisfied: chardet<3.1.0,>=3.0.2 in /usr/local/lib/python3.6/dist-packages (from requests->folium) (3.0.4)\n",
            "Requirement already satisfied: certifi>=2017.4.17 in /usr/local/lib/python3.6/dist-packages (from requests->folium) (2018.4.16)\n",
            "Building wheels for collected packages: folium\n",
            "  Running setup.py bdist_wheel for folium ... \u001b[?25l-\b \b\\\b \bdone\n",
            "\u001b[?25h  Stored in directory: /content/.cache/pip/wheels/f8/98/ff/954791afc47740d554f0d9e5885fa09dd60c2265d42578e665\n",
            "Successfully built folium\n",
            "Installing collected packages: branca, folium\n",
            "Successfully installed branca-0.3.0 folium-0.5.0\n",
            "Name: folium\n",
            "Version: 0.5.0\n",
            "Summary: Make beautiful maps with Leaflet.js & Python\n",
            "Home-page: https://github.com/python-visualization/folium\n",
            "Author: Rob Story\n",
            "Author-email: wrobstory@gmail.com\n",
            "License: Copyright (C) 2013, Rob Story\n",
            "Location: /usr/local/lib/python3.6/dist-packages\n",
            "Requires: six, requests, branca, jinja2\n",
            "Required-by: \n"
          ],
          "name": "stdout"
        }
      ]
    },
    {
      "metadata": {
        "id": "lmawiJgZtR8T",
        "colab_type": "code",
        "colab": {}
      },
      "cell_type": "code",
      "source": [
        "import pandas as pd"
      ],
      "execution_count": 0,
      "outputs": []
    },
    {
      "metadata": {
        "id": "aJILnTxJtTTu",
        "colab_type": "code",
        "colab": {}
      },
      "cell_type": "code",
      "source": [
        "!pip install --upgrade -q gspread\n",
        "from google.colab import auth\n",
        "\n",
        "auth.authenticate_user()\n",
        "\n",
        "import gspread\n",
        "from oauth2client.client import GoogleCredentials\n",
        "\n",
        "def get_sheet(title, sheet_name):\n",
        "  gc = gspread.authorize(GoogleCredentials.get_application_default())\n",
        "  return gc.open(title).worksheet(sheet_name)"
      ],
      "execution_count": 0,
      "outputs": []
    },
    {
      "metadata": {
        "id": "qpQTJYw1tUyv",
        "colab_type": "code",
        "colab": {}
      },
      "cell_type": "code",
      "source": [
        "def get_df(sheet_name):\n",
        "  sheet = get_sheet('test', sheet_name)\n",
        "  \n",
        "  rows = sheet.get_all_values()\n",
        "  df = pd.DataFrame.from_records(rows)\n",
        "  \n",
        "  df.columns = df.iloc[0]\n",
        "  df = df.reindex(df.index.drop(0))\n",
        "  return df"
      ],
      "execution_count": 0,
      "outputs": []
    },
    {
      "metadata": {
        "id": "WB0Zf_eyt7Ds",
        "colab_type": "code",
        "colab": {
          "base_uri": "https://localhost:8080/",
          "height": 34
        },
        "outputId": "c2166fec-c043-4ffb-8b51-a5fb857b44c3"
      },
      "cell_type": "code",
      "source": [
        "test = get_df('시트1')\n",
        "test.shape"
      ],
      "execution_count": 6,
      "outputs": [
        {
          "output_type": "execute_result",
          "data": {
            "text/plain": [
              "(10, 10)"
            ]
          },
          "metadata": {
            "tags": []
          },
          "execution_count": 6
        }
      ]
    },
    {
      "metadata": {
        "id": "xRw58ealuD-O",
        "colab_type": "code",
        "colab": {
          "base_uri": "https://localhost:8080/",
          "height": 343
        },
        "outputId": "ee2596f2-2e52-4451-e167-7dbb37627b25"
      },
      "cell_type": "code",
      "source": [
        "test"
      ],
      "execution_count": 7,
      "outputs": [
        {
          "output_type": "execute_result",
          "data": {
            "text/html": [
              "<div>\n",
              "<style scoped>\n",
              "    .dataframe tbody tr th:only-of-type {\n",
              "        vertical-align: middle;\n",
              "    }\n",
              "\n",
              "    .dataframe tbody tr th {\n",
              "        vertical-align: top;\n",
              "    }\n",
              "\n",
              "    .dataframe thead th {\n",
              "        text-align: right;\n",
              "    }\n",
              "</style>\n",
              "<table border=\"1\" class=\"dataframe\">\n",
              "  <thead>\n",
              "    <tr style=\"text-align: right;\">\n",
              "      <th></th>\n",
              "      <th></th>\n",
              "      <th>Name</th>\n",
              "      <th>Address</th>\n",
              "      <th>Multiflex_no</th>\n",
              "      <th>Traffic</th>\n",
              "      <th>Search_Word</th>\n",
              "      <th>Feeding</th>\n",
              "      <th>Stroller</th>\n",
              "      <th>Revenue</th>\n",
              "      <th>Store</th>\n",
              "    </tr>\n",
              "  </thead>\n",
              "  <tbody>\n",
              "    <tr>\n",
              "      <th>1</th>\n",
              "      <td>1</td>\n",
              "      <td>스타필드 하남</td>\n",
              "      <td>경기 하남시 미사대로 750 스타필드 하남</td>\n",
              "      <td>1537</td>\n",
              "      <td></td>\n",
              "      <td></td>\n",
              "      <td></td>\n",
              "      <td></td>\n",
              "      <td></td>\n",
              "      <td></td>\n",
              "    </tr>\n",
              "    <tr>\n",
              "      <th>2</th>\n",
              "      <td>2</td>\n",
              "      <td>스타필드 코엑스</td>\n",
              "      <td>서울 강남구 영동대로 513 코엑스</td>\n",
              "      <td>3589</td>\n",
              "      <td></td>\n",
              "      <td></td>\n",
              "      <td></td>\n",
              "      <td></td>\n",
              "      <td></td>\n",
              "      <td></td>\n",
              "    </tr>\n",
              "    <tr>\n",
              "      <th>3</th>\n",
              "      <td>3</td>\n",
              "      <td>테크노마트 강변</td>\n",
              "      <td>서울 광진구 광나루로56길 85 테크노-마트21</td>\n",
              "      <td>1663</td>\n",
              "      <td></td>\n",
              "      <td></td>\n",
              "      <td></td>\n",
              "      <td></td>\n",
              "      <td></td>\n",
              "      <td></td>\n",
              "    </tr>\n",
              "    <tr>\n",
              "      <th>4</th>\n",
              "      <td>4</td>\n",
              "      <td>아이파크몰 용산</td>\n",
              "      <td>서울 광진구 광나루로56길 85 테크노-마트21</td>\n",
              "      <td>3893</td>\n",
              "      <td></td>\n",
              "      <td></td>\n",
              "      <td></td>\n",
              "      <td></td>\n",
              "      <td></td>\n",
              "      <td></td>\n",
              "    </tr>\n",
              "    <tr>\n",
              "      <th>5</th>\n",
              "      <td>5</td>\n",
              "      <td>가든파이브</td>\n",
              "      <td>서울 송파구 충민로 66 가든파이브라이프</td>\n",
              "      <td>1481</td>\n",
              "      <td></td>\n",
              "      <td></td>\n",
              "      <td></td>\n",
              "      <td></td>\n",
              "      <td></td>\n",
              "      <td></td>\n",
              "    </tr>\n",
              "    <tr>\n",
              "      <th>6</th>\n",
              "      <td>6</td>\n",
              "      <td>타임스퀘어</td>\n",
              "      <td>서울 영등포구 영중로 15 타임스퀘어</td>\n",
              "      <td>2797</td>\n",
              "      <td></td>\n",
              "      <td></td>\n",
              "      <td></td>\n",
              "      <td></td>\n",
              "      <td></td>\n",
              "      <td></td>\n",
              "    </tr>\n",
              "    <tr>\n",
              "      <th>7</th>\n",
              "      <td>7</td>\n",
              "      <td>디큐브시티</td>\n",
              "      <td>서울시 구로구 경인로 662</td>\n",
              "      <td>545</td>\n",
              "      <td></td>\n",
              "      <td></td>\n",
              "      <td></td>\n",
              "      <td></td>\n",
              "      <td></td>\n",
              "      <td></td>\n",
              "    </tr>\n",
              "    <tr>\n",
              "      <th>8</th>\n",
              "      <td>8</td>\n",
              "      <td>롯데몰 김포</td>\n",
              "      <td>서울 강서구 하늘길 77</td>\n",
              "      <td>2127</td>\n",
              "      <td></td>\n",
              "      <td></td>\n",
              "      <td></td>\n",
              "      <td></td>\n",
              "      <td></td>\n",
              "      <td></td>\n",
              "    </tr>\n",
              "    <tr>\n",
              "      <th>9</th>\n",
              "      <td>9</td>\n",
              "      <td>롯데몰 은평</td>\n",
              "      <td>서울 은평구 통일로 1050</td>\n",
              "      <td>1336</td>\n",
              "      <td></td>\n",
              "      <td></td>\n",
              "      <td></td>\n",
              "      <td></td>\n",
              "      <td></td>\n",
              "      <td></td>\n",
              "    </tr>\n",
              "    <tr>\n",
              "      <th>10</th>\n",
              "      <td>10</td>\n",
              "      <td>IFC몰</td>\n",
              "      <td>서울 영등포구 국제금융로 10 IFC몰</td>\n",
              "      <td>1305</td>\n",
              "      <td></td>\n",
              "      <td></td>\n",
              "      <td></td>\n",
              "      <td></td>\n",
              "      <td></td>\n",
              "      <td></td>\n",
              "    </tr>\n",
              "  </tbody>\n",
              "</table>\n",
              "</div>"
            ],
            "text/plain": [
              "0           Name                     Address Multiflex_no Traffic Search_Word  \\\n",
              "1    1   스타필드 하남     경기 하남시 미사대로 750 스타필드 하남         1537                       \n",
              "2    2  스타필드 코엑스         서울 강남구 영동대로 513 코엑스         3589                       \n",
              "3    3  테크노마트 강변  서울 광진구 광나루로56길 85 테크노-마트21         1663                       \n",
              "4    4  아이파크몰 용산  서울 광진구 광나루로56길 85 테크노-마트21         3893                       \n",
              "5    5     가든파이브      서울 송파구 충민로 66 가든파이브라이프         1481                       \n",
              "6    6     타임스퀘어        서울 영등포구 영중로 15 타임스퀘어         2797                       \n",
              "7    7     디큐브시티             서울시 구로구 경인로 662          545                       \n",
              "8    8    롯데몰 김포               서울 강서구 하늘길 77         2127                       \n",
              "9    9    롯데몰 은평             서울 은평구 통일로 1050         1336                       \n",
              "10  10      IFC몰       서울 영등포구 국제금융로 10 IFC몰         1305                       \n",
              "\n",
              "0  Feeding Stroller Revenue Store  \n",
              "1                                  \n",
              "2                                  \n",
              "3                                  \n",
              "4                                  \n",
              "5                                  \n",
              "6                                  \n",
              "7                                  \n",
              "8                                  \n",
              "9                                  \n",
              "10                                 "
            ]
          },
          "metadata": {
            "tags": []
          },
          "execution_count": 7
        }
      ]
    },
    {
      "metadata": {
        "id": "CmOxScmOuZ7u",
        "colab_type": "code",
        "colab": {}
      },
      "cell_type": "code",
      "source": [
        "import googlemaps\n",
        "gmaps_key = '자신의 키를 넣어주세요'\n",
        "gmaps = googlemaps.Client(key=gmaps_key)"
      ],
      "execution_count": 0,
      "outputs": []
    },
    {
      "metadata": {
        "id": "JVK0L6e5udOp",
        "colab_type": "code",
        "colab": {
          "base_uri": "https://localhost:8080/",
          "height": 210
        },
        "outputId": "9a720ae2-7459-4f3b-e44d-7ccf86aa0573"
      },
      "cell_type": "code",
      "source": [
        "test_name = test['Address'].str.replace('\\n', '')\n",
        "test_name"
      ],
      "execution_count": 11,
      "outputs": [
        {
          "output_type": "execute_result",
          "data": {
            "text/plain": [
              "1        경기 하남시 미사대로 750 스타필드 하남\n",
              "2            서울 강남구 영동대로 513 코엑스\n",
              "3     서울 광진구 광나루로56길 85 테크노-마트21\n",
              "4     서울 광진구 광나루로56길 85 테크노-마트21\n",
              "5         서울 송파구 충민로 66 가든파이브라이프\n",
              "6           서울 영등포구 영중로 15 타임스퀘어\n",
              "7                서울시 구로구 경인로 662\n",
              "8                  서울 강서구 하늘길 77\n",
              "9                서울 은평구 통일로 1050\n",
              "10         서울 영등포구 국제금융로 10 IFC몰\n",
              "Name: Address, dtype: object"
            ]
          },
          "metadata": {
            "tags": []
          },
          "execution_count": 11
        }
      ]
    },
    {
      "metadata": {
        "id": "lPqDHjWDuomA",
        "colab_type": "code",
        "colab": {
          "base_uri": "https://localhost:8080/",
          "height": 193
        },
        "outputId": "37a592d5-8794-47d1-bef4-9f4eac9de163"
      },
      "cell_type": "code",
      "source": [
        "test_name = test['Address']\n",
        "test_addreess = []\n",
        "test_lat = []\n",
        "test_lng = []\n",
        "\n",
        "for name in test_name:\n",
        "    tmp = gmaps.geocode(name, language='ko')\n",
        "    test_addreess.append(tmp[0].get(\"formatted_address\"))\n",
        "    \n",
        "    tmp_loc = tmp[0].get(\"geometry\")\n",
        "\n",
        "    test_lat.append(tmp_loc['location']['lat'])\n",
        "    test_lng.append(tmp_loc['location']['lng'])\n",
        "    \n",
        "    print(name + '-->' + tmp[0].get(\"formatted_address\"))"
      ],
      "execution_count": 12,
      "outputs": [
        {
          "output_type": "stream",
          "text": [
            "경기 하남시 미사대로 750 스타필드 하남-->750 Misa-daero, 하남시 경기도 대한민국\n",
            "서울 강남구 영동대로 513 코엑스-->대한민국 서울특별시 강남구 삼성1동 영동대로 513\n",
            "서울 광진구 광나루로56길 85 테크노-마트21-->대한민국 서울특별시 광진구 구의동 546-4\n",
            "서울 광진구 광나루로56길 85 테크노-마트21-->대한민국 서울특별시 광진구 구의동 546-4\n",
            "서울 송파구 충민로 66 가든파이브라이프-->대한민국 서울특별시 송파구 문정2동 충민로 66\n",
            "서울 영등포구 영중로 15 타임스퀘어-->대한민국 서울특별시 영등포구 영등포동 영중로 15\n",
            "서울시 구로구 경인로 662-->대한민국 서울특별시 구로구 신도림동 경인로 662\n",
            "서울 강서구 하늘길 77-->대한민국 서울특별시 강서구 방화2동 하늘길 지하 77\n",
            "서울 은평구 통일로 1050-->대한민국 서울특별시 은평구 진관동 통일로 1050\n",
            "서울 영등포구 국제금융로 10 IFC몰-->대한민국 서울특별시 영등포구 여의도동 국제금융로 10\n"
          ],
          "name": "stdout"
        }
      ]
    },
    {
      "metadata": {
        "id": "FGsOIF5Su4Qu",
        "colab_type": "code",
        "colab": {}
      },
      "cell_type": "code",
      "source": [
        "test['위도'] = test_lat\n",
        "test['경도'] = test_lng\n",
        "test['변환주소'] = test_addreess"
      ],
      "execution_count": 0,
      "outputs": []
    },
    {
      "metadata": {
        "id": "IXyFaAQ0vC82",
        "colab_type": "code",
        "colab": {
          "base_uri": "https://localhost:8080/",
          "height": 34
        },
        "outputId": "2caecda0-bdf9-4f85-f5b9-d3bdef74b9b8"
      },
      "cell_type": "code",
      "source": [
        "test['Address'].shape"
      ],
      "execution_count": 14,
      "outputs": [
        {
          "output_type": "execute_result",
          "data": {
            "text/plain": [
              "(10,)"
            ]
          },
          "metadata": {
            "tags": []
          },
          "execution_count": 14
        }
      ]
    },
    {
      "metadata": {
        "id": "Iph485dIvGHs",
        "colab_type": "code",
        "colab": {
          "base_uri": "https://localhost:8080/",
          "height": 34
        },
        "outputId": "c955245d-e3e3-4281-dc88-9439c78910ec"
      },
      "cell_type": "code",
      "source": [
        "len(test_lat)"
      ],
      "execution_count": 15,
      "outputs": [
        {
          "output_type": "execute_result",
          "data": {
            "text/plain": [
              "10"
            ]
          },
          "metadata": {
            "tags": []
          },
          "execution_count": 15
        }
      ]
    },
    {
      "metadata": {
        "id": "xiMbMt1LvJ-Q",
        "colab_type": "code",
        "colab": {
          "base_uri": "https://localhost:8080/",
          "height": 343
        },
        "outputId": "0eafac4d-38f2-4336-8425-36e1cee74dcc"
      },
      "cell_type": "code",
      "source": [
        "test[['Name','Address','변환주소', '위도', '경도']]"
      ],
      "execution_count": 16,
      "outputs": [
        {
          "output_type": "execute_result",
          "data": {
            "text/html": [
              "<div>\n",
              "<style scoped>\n",
              "    .dataframe tbody tr th:only-of-type {\n",
              "        vertical-align: middle;\n",
              "    }\n",
              "\n",
              "    .dataframe tbody tr th {\n",
              "        vertical-align: top;\n",
              "    }\n",
              "\n",
              "    .dataframe thead th {\n",
              "        text-align: right;\n",
              "    }\n",
              "</style>\n",
              "<table border=\"1\" class=\"dataframe\">\n",
              "  <thead>\n",
              "    <tr style=\"text-align: right;\">\n",
              "      <th></th>\n",
              "      <th>Name</th>\n",
              "      <th>Address</th>\n",
              "      <th>변환주소</th>\n",
              "      <th>위도</th>\n",
              "      <th>경도</th>\n",
              "    </tr>\n",
              "  </thead>\n",
              "  <tbody>\n",
              "    <tr>\n",
              "      <th>1</th>\n",
              "      <td>스타필드 하남</td>\n",
              "      <td>경기 하남시 미사대로 750 스타필드 하남</td>\n",
              "      <td>750 Misa-daero, 하남시 경기도 대한민국</td>\n",
              "      <td>37.545614</td>\n",
              "      <td>127.224064</td>\n",
              "    </tr>\n",
              "    <tr>\n",
              "      <th>2</th>\n",
              "      <td>스타필드 코엑스</td>\n",
              "      <td>서울 강남구 영동대로 513 코엑스</td>\n",
              "      <td>대한민국 서울특별시 강남구 삼성1동 영동대로 513</td>\n",
              "      <td>37.511683</td>\n",
              "      <td>127.059108</td>\n",
              "    </tr>\n",
              "    <tr>\n",
              "      <th>3</th>\n",
              "      <td>테크노마트 강변</td>\n",
              "      <td>서울 광진구 광나루로56길 85 테크노-마트21</td>\n",
              "      <td>대한민국 서울특별시 광진구 구의동 546-4</td>\n",
              "      <td>37.535117</td>\n",
              "      <td>127.095775</td>\n",
              "    </tr>\n",
              "    <tr>\n",
              "      <th>4</th>\n",
              "      <td>아이파크몰 용산</td>\n",
              "      <td>서울 광진구 광나루로56길 85 테크노-마트21</td>\n",
              "      <td>대한민국 서울특별시 광진구 구의동 546-4</td>\n",
              "      <td>37.535117</td>\n",
              "      <td>127.095775</td>\n",
              "    </tr>\n",
              "    <tr>\n",
              "      <th>5</th>\n",
              "      <td>가든파이브</td>\n",
              "      <td>서울 송파구 충민로 66 가든파이브라이프</td>\n",
              "      <td>대한민국 서울특별시 송파구 문정2동 충민로 66</td>\n",
              "      <td>37.477634</td>\n",
              "      <td>127.124943</td>\n",
              "    </tr>\n",
              "    <tr>\n",
              "      <th>6</th>\n",
              "      <td>타임스퀘어</td>\n",
              "      <td>서울 영등포구 영중로 15 타임스퀘어</td>\n",
              "      <td>대한민국 서울특별시 영등포구 영등포동 영중로 15</td>\n",
              "      <td>37.517164</td>\n",
              "      <td>126.903176</td>\n",
              "    </tr>\n",
              "    <tr>\n",
              "      <th>7</th>\n",
              "      <td>디큐브시티</td>\n",
              "      <td>서울시 구로구 경인로 662</td>\n",
              "      <td>대한민국 서울특별시 구로구 신도림동 경인로 662</td>\n",
              "      <td>37.508432</td>\n",
              "      <td>126.888733</td>\n",
              "    </tr>\n",
              "    <tr>\n",
              "      <th>8</th>\n",
              "      <td>롯데몰 김포</td>\n",
              "      <td>서울 강서구 하늘길 77</td>\n",
              "      <td>대한민국 서울특별시 강서구 방화2동 하늘길 지하 77</td>\n",
              "      <td>37.566773</td>\n",
              "      <td>126.802512</td>\n",
              "    </tr>\n",
              "    <tr>\n",
              "      <th>9</th>\n",
              "      <td>롯데몰 은평</td>\n",
              "      <td>서울 은평구 통일로 1050</td>\n",
              "      <td>대한민국 서울특별시 은평구 진관동 통일로 1050</td>\n",
              "      <td>37.637515</td>\n",
              "      <td>126.917790</td>\n",
              "    </tr>\n",
              "    <tr>\n",
              "      <th>10</th>\n",
              "      <td>IFC몰</td>\n",
              "      <td>서울 영등포구 국제금융로 10 IFC몰</td>\n",
              "      <td>대한민국 서울특별시 영등포구 여의도동 국제금융로 10</td>\n",
              "      <td>37.525462</td>\n",
              "      <td>126.925454</td>\n",
              "    </tr>\n",
              "  </tbody>\n",
              "</table>\n",
              "</div>"
            ],
            "text/plain": [
              "0       Name                     Address                           변환주소  \\\n",
              "1    스타필드 하남     경기 하남시 미사대로 750 스타필드 하남   750 Misa-daero, 하남시 경기도 대한민국   \n",
              "2   스타필드 코엑스         서울 강남구 영동대로 513 코엑스   대한민국 서울특별시 강남구 삼성1동 영동대로 513   \n",
              "3   테크노마트 강변  서울 광진구 광나루로56길 85 테크노-마트21       대한민국 서울특별시 광진구 구의동 546-4   \n",
              "4   아이파크몰 용산  서울 광진구 광나루로56길 85 테크노-마트21       대한민국 서울특별시 광진구 구의동 546-4   \n",
              "5      가든파이브      서울 송파구 충민로 66 가든파이브라이프     대한민국 서울특별시 송파구 문정2동 충민로 66   \n",
              "6      타임스퀘어        서울 영등포구 영중로 15 타임스퀘어    대한민국 서울특별시 영등포구 영등포동 영중로 15   \n",
              "7      디큐브시티             서울시 구로구 경인로 662    대한민국 서울특별시 구로구 신도림동 경인로 662   \n",
              "8     롯데몰 김포               서울 강서구 하늘길 77  대한민국 서울특별시 강서구 방화2동 하늘길 지하 77   \n",
              "9     롯데몰 은평             서울 은평구 통일로 1050    대한민국 서울특별시 은평구 진관동 통일로 1050   \n",
              "10      IFC몰       서울 영등포구 국제금융로 10 IFC몰  대한민국 서울특별시 영등포구 여의도동 국제금융로 10   \n",
              "\n",
              "0          위도          경도  \n",
              "1   37.545614  127.224064  \n",
              "2   37.511683  127.059108  \n",
              "3   37.535117  127.095775  \n",
              "4   37.535117  127.095775  \n",
              "5   37.477634  127.124943  \n",
              "6   37.517164  126.903176  \n",
              "7   37.508432  126.888733  \n",
              "8   37.566773  126.802512  \n",
              "9   37.637515  126.917790  \n",
              "10  37.525462  126.925454  "
            ]
          },
          "metadata": {
            "tags": []
          },
          "execution_count": 16
        }
      ]
    },
    {
      "metadata": {
        "id": "_dgVrVtYvR1d",
        "colab_type": "code",
        "colab": {
          "base_uri": "https://localhost:8080/",
          "height": 827
        },
        "outputId": "48b57008-c850-4807-c1db-90d1b224ee81"
      },
      "cell_type": "code",
      "source": [
        "import folium\n",
        "geo_df = test\n",
        "\n",
        "map = folium.Map(location=[geo_df['위도'].mean(), geo_df['경도'].mean()], zoom_start=17, tiles='Stamen Toner')\n",
        "\n",
        "for n in geo_df.index:\n",
        "    park_name = geo_df['Name'][n] \\\n",
        "              + '-' + geo_df['Address'][n]\n",
        "    folium.Marker([geo_df['위도'][n], geo_df['경도'][n]], popup=park_name).add_to(map)\n",
        "    \n",
        "\n",
        "map"
      ],
      "execution_count": 17,
      "outputs": [
        {
          "output_type": "execute_result",
          "data": {
            "text/html": [
              "<div style=\"width:100%;\"><div style=\"position:relative;width:100%;height:0;padding-bottom:60%;\"><iframe src=\"data:text/html;charset=utf-8;base64,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\" style=\"position:absolute;width:100%;height:100%;left:0;top:0;border:none !important;\" allowfullscreen webkitallowfullscreen mozallowfullscreen></iframe></div></div>"
            ],
            "text/plain": [
              "<folium.folium.Map at 0x7f46ce139710>"
            ]
          },
          "metadata": {
            "tags": []
          },
          "execution_count": 17
        }
      ]
    },
    {
      "metadata": {
        "id": "_dScSv8hws-4",
        "colab_type": "code",
        "colab": {}
      },
      "cell_type": "code",
      "source": [
        ""
      ],
      "execution_count": 0,
      "outputs": []
    }
  ]
}