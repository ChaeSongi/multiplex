{
 "cells": [
  {
   "cell_type": "code",
   "execution_count": 1,
   "metadata": {
    "scrolled": true
   },
   "outputs": [
    {
     "name": "stdout",
     "output_type": "stream",
     "text": [
      "Requirement already satisfied: selenium in c:\\users\\user\\anaconda\\lib\\site-packages (3.14.0)\n",
      "Requirement already satisfied: urllib3 in c:\\users\\user\\anaconda\\lib\\site-packages (from selenium) (1.22)\n"
     ]
    }
   ],
   "source": [
    "!pip install selenium"
   ]
  },
  {
   "cell_type": "code",
   "execution_count": 55,
   "metadata": {
    "scrolled": true
   },
   "outputs": [],
   "source": [
    "from urllib import request\n",
    "from selenium import webdriver\n",
    "from selenium.webdriver.support.ui import WebDriverWait\n",
    "\n",
    "driver = webdriver.Chrome('C://Users/USER/Desktop/chromedriver.exe')"
   ]
  },
  {
   "cell_type": "markdown",
   "metadata": {},
   "source": [
    "# 인스타그램"
   ]
  },
  {
   "cell_type": "code",
   "execution_count": 56,
   "metadata": {
    "scrolled": true
   },
   "outputs": [],
   "source": [
    "driver.get('https://www.instagram.com/explore/tags/python/')"
   ]
  },
  {
   "cell_type": "code",
   "execution_count": 60,
   "metadata": {
    "scrolled": true
   },
   "outputs": [
    {
     "name": "stdout",
     "output_type": "stream",
     "text": [
      "starfield_hanam\n",
      "nb_hanam\n",
      "mr.mrs__hanam\n",
      "올댓미트 하남 스타필드\n",
      "#하남스타필드하남\n",
      "#하남스타필드하남돼지집\n",
      "#하남스타필드하만\n",
      "디자인스킨 스타필드하남\n",
      "부츠 스타필드 하남점\n",
      "#하남스타필드하이브리드관\n",
      "#하남스타필드하늘\n"
     ]
    }
   ],
   "source": [
    "# element_search = driver.find_element_by_name(\"\")\n",
    "timeout = 5\n",
    "search = driver.find_element_by_class_name(\"XTCLo\")\n",
    "search.send_keys(\"\")\n",
    "WebDriverWait(driver, timeout)\n",
    "search.send_keys(\"하남 스타필드\")\n",
    "WebDriverWait(driver, timeout)\n",
    "name = driver.find_elements_by_class_name(\"Ap253\")\n",
    "for i in name:\n",
    "    print(i.text)"
   ]
  },
  {
   "cell_type": "code",
   "execution_count": null,
   "metadata": {
    "scrolled": true
   },
   "outputs": [],
   "source": []
  }
 ],
 "metadata": {
  "kernelspec": {
   "display_name": "Python 3",
   "language": "python",
   "name": "python3"
  },
  "language_info": {
   "codemirror_mode": {
    "name": "ipython",
    "version": 3
   },
   "file_extension": ".py",
   "mimetype": "text/x-python",
   "name": "python",
   "nbconvert_exporter": "python",
   "pygments_lexer": "ipython3",
   "version": "3.6.5"
  }
 },
 "nbformat": 4,
 "nbformat_minor": 2
}
