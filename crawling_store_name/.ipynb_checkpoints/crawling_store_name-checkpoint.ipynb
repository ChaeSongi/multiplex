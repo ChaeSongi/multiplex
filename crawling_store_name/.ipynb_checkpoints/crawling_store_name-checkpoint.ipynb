{
 "cells": [
  {
   "cell_type": "code",
   "execution_count": null,
   "metadata": {
    "scrolled": true
   },
   "outputs": [],
   "source": [
    "!pip install selenium"
   ]
  },
  {
   "cell_type": "code",
   "execution_count": null,
   "metadata": {
    "scrolled": true
   },
   "outputs": [],
   "source": [
    "from urllib import request\n",
    "from selenium import webdriver\n",
    "\n",
    "driver = webdriver.Chrome('C://Users/USER/Desktop/chromedriver.exe')"
   ]
  },
  {
   "cell_type": "markdown",
   "metadata": {},
   "source": [
    "# 스타필드 하남"
   ]
  },
  {
   "cell_type": "code",
   "execution_count": null,
   "metadata": {
    "scrolled": true
   },
   "outputs": [],
   "source": [
    "driver.get('https://www.starfield.co.kr/hanam/tenant/categoryInfo.do')"
   ]
  },
  {
   "cell_type": "code",
   "execution_count": null,
   "metadata": {
    "scrolled": true
   },
   "outputs": [],
   "source": [
    "i = 0\n",
    "\n",
    "while i <10:\n",
    "    i=i+1\n",
    "    print(i)\n",
    "    driver.execute_script(\"more();\")\n",
    "    \n",
    "names = driver.find_elements_by_css_selector('#cat-list-view span.brand-title-ko')\n",
    "for i, name in enumerate(names):\n",
    "    print(name.text)"
   ]
  },
  {
   "cell_type": "markdown",
   "metadata": {},
   "source": [
    "# 스타필드 코엑스"
   ]
  },
  {
   "cell_type": "code",
   "execution_count": null,
   "metadata": {
    "scrolled": true
   },
   "outputs": [],
   "source": [
    "driver.get('https://www.starfield.co.kr/coexmall/tenant/categoryInfo.do')"
   ]
  },
  {
   "cell_type": "code",
   "execution_count": null,
   "metadata": {
    "scrolled": true
   },
   "outputs": [],
   "source": [
    "i = 0\n",
    "\n",
    "while i <20:\n",
    "    i=i+1\n",
    "    print(i)\n",
    "    driver.execute_script(\"more();\")\n",
    "    \n",
    "names = driver.find_elements_by_css_selector('#cat-list-view span.brand-title-ko')\n",
    "\n",
    "for i, name in enumerate(names):\n",
    "    print(i, name.text)"
   ]
  },
  {
   "cell_type": "markdown",
   "metadata": {},
   "source": [
    "# 강변 테크노마트"
   ]
  },
  {
   "cell_type": "code",
   "execution_count": null,
   "metadata": {
    "scrolled": true
   },
   "outputs": [],
   "source": [
    "driver.get('http://www.tm21.com/store/list.tm#100')"
   ]
  },
  {
   "cell_type": "code",
   "execution_count": null,
   "metadata": {
    "scrolled": true
   },
   "outputs": [],
   "source": [
    "page = 1\n",
    "while page < 90:\n",
    "    names = driver.find_elements_by_css_selector('.m_top15')\n",
    "    for i, name in enumerate(names):\n",
    "        print(name.text)\n",
    "    page = page+1\n",
    "    driver.execute_script(\"storeListUserFunc.goPage(\"+str(page)+\");\")"
   ]
  },
  {
   "cell_type": "markdown",
   "metadata": {},
   "source": [
    "# 아이파크몰 용산"
   ]
  },
  {
   "cell_type": "code",
   "execution_count": null,
   "metadata": {
    "scrolled": true
   },
   "outputs": [],
   "source": [
    "url = 'https://www.hdc-iparkmall.com/main/sub01_01.asp?page='"
   ]
  },
  {
   "cell_type": "code",
   "execution_count": null,
   "metadata": {
    "scrolled": false
   },
   "outputs": [],
   "source": [
    "page = 1\n",
    "driver.get(url+str(page))\n",
    "while page < 21:\n",
    "    names = driver.find_elements_by_css_selector('div.listInfor strong')\n",
    "    for i, name in enumerate(names):\n",
    "        print(name.text)\n",
    "    page = page+1\n",
    "    driver.get(url+str(page))"
   ]
  },
  {
   "cell_type": "markdown",
   "metadata": {},
   "source": [
    "# 가든 파이브"
   ]
  },
  {
   "cell_type": "markdown",
   "metadata": {},
   "source": [
    "## 패션관"
   ]
  },
  {
   "cell_type": "code",
   "execution_count": null,
   "metadata": {
    "scrolled": true
   },
   "outputs": [],
   "source": [
    "from selenium.webdriver.common.by import By\n",
    "from selenium.webdriver.support.ui import WebDriverWait\n",
    "from selenium.webdriver.support import expected_conditions as EC"
   ]
  },
  {
   "cell_type": "code",
   "execution_count": null,
   "metadata": {
    "scrolled": false
   },
   "outputs": [],
   "source": [
    "floor = ['B1F','01F','02F','03F','04F','05F','06F','07F','08F']\n",
    "num = 0\n",
    "\n",
    "for f in floor:\n",
    "    driver.get('http://m.garden5.com/front/fashion.asp')\n",
    "    driver.execute_script('move(\\''+f+'\\');')\n",
    "    \n",
    "    wait = WebDriverWait(driver, 10)\n",
    "    element = wait.until(EC.presence_of_element_located((By.CSS_SELECTOR, \"div.txt_wrap\")))\n",
    "    \n",
    "    names = driver.find_elements_by_css_selector('div.txt_wrap > p.name')\n",
    "    \n",
    "    for name in names:\n",
    "        num = num + 1\n",
    "        print(name.text)"
   ]
  },
  {
   "cell_type": "markdown",
   "metadata": {},
   "source": [
    "## 영관"
   ]
  },
  {
   "cell_type": "code",
   "execution_count": null,
   "metadata": {
    "scrolled": false
   },
   "outputs": [],
   "source": [
    "floor = ['B1F','02F','03F','04F','05F','06F','07F','08F','09F']\n",
    "num = 0\n",
    "\n",
    "for f in floor:\n",
    "    driver.get('http://m.garden5.com/front/young.asp')\n",
    "    driver.execute_script('move(\\''+f+'\\');')\n",
    "    \n",
    "    wait = WebDriverWait(driver, 10)\n",
    "    element = wait.until(EC.presence_of_element_located((By.CSS_SELECTOR, \"div.txt_wrap\")))\n",
    "    \n",
    "    names = driver.find_elements_by_css_selector('div.txt_wrap > p.name')\n",
    "    \n",
    "    for name in names:\n",
    "        num = num + 1\n",
    "        print(name.text)"
   ]
  },
  {
   "cell_type": "markdown",
   "metadata": {},
   "source": [
    "## 리빙관"
   ]
  },
  {
   "cell_type": "code",
   "execution_count": null,
   "metadata": {
    "scrolled": false
   },
   "outputs": [],
   "source": [
    "floor = ['01F','02F','03F','04F','05F','06F','07F','08F','09F']\n",
    "num = 0\n",
    "\n",
    "for f in floor:\n",
    "    driver.get('http://m.garden5.com/front/living_d.asp')\n",
    "    driver.execute_script('move(\\''+f+'\\');')\n",
    "    \n",
    "    wait = WebDriverWait(driver, 10)\n",
    "    element = wait.until(EC.presence_of_element_located((By.CSS_SELECTOR, \"div.txt_wrap\")))\n",
    "    \n",
    "    names = driver.find_elements_by_css_selector('div.txt_wrap > p.name')\n",
    "    \n",
    "    for name in names:\n",
    "        num = num + 1\n",
    "        print(name.text)"
   ]
  },
  {
   "cell_type": "markdown",
   "metadata": {},
   "source": [
    "## 테크노관"
   ]
  },
  {
   "cell_type": "code",
   "execution_count": null,
   "metadata": {
    "scrolled": true
   },
   "outputs": [],
   "source": [
    "floor = ['B1F','01F','02F','03F','04F','05F','06F','07F','08F','09F']\n",
    "num = 0\n",
    "\n",
    "for f in floor:\n",
    "    driver.get('http://m.garden5.com/front/techno.asp')\n",
    "    driver.execute_script('move(\\''+f+'\\');')\n",
    "    \n",
    "    wait = WebDriverWait(driver, 10)\n",
    "    element = wait.until(EC.presence_of_element_located((By.CSS_SELECTOR, \"div.txt_wrap\")))\n",
    "    \n",
    "    names = driver.find_elements_by_css_selector('div.txt_wrap > p.name')\n",
    "    \n",
    "    for name in names:\n",
    "        num = num + 1\n",
    "        print(name.text)"
   ]
  },
  {
   "cell_type": "markdown",
   "metadata": {},
   "source": [
    "# IFC몰"
   ]
  },
  {
   "cell_type": "code",
   "execution_count": null,
   "metadata": {
    "scrolled": true
   },
   "outputs": [],
   "source": [
    "page = 1\n",
    "url1 = 'https://www.ifcmallseoul.com/jsp/store/storeSearchList.do?page='\n",
    "url2 = '&lang=k&mallKeyword2=&cate=ALL'\n",
    "\n",
    "while page < 20:\n",
    "    driver.get(url1+str(page)+url2)\n",
    "    names = driver.find_elements_by_css_selector('div.infos>p>span')\n",
    "    for i, name in enumerate(names):\n",
    "        if i%6==1:\n",
    "            print(name.text)\n",
    "    page = page+1"
   ]
  },
  {
   "cell_type": "markdown",
   "metadata": {},
   "source": [
    "# 롯데몰 김포"
   ]
  },
  {
   "cell_type": "code",
   "execution_count": null,
   "metadata": {
    "scrolled": true
   },
   "outputs": [],
   "source": [
    "url1 = 'http://gimpoairport.lottemall.co.kr/handler/FloorGuide-Start?brchNoLeftMenu=1&flrNo='\n",
    "url2 = '&flrName='\n",
    "pages=[(2,'GF'),(3,'MF')]\n",
    "\n",
    "for page1, page2 in pages:\n",
    "    driver.get(url1+str(page1)+url2+str(page2))\n",
    "    names = driver.find_elements_by_css_selector('tr>td.name')\n",
    "    for i, name in enumerate(names):\n",
    "        print(name.get_attribute('innerText'))"
   ]
  },
  {
   "cell_type": "markdown",
   "metadata": {},
   "source": [
    "# 롯데몰 은평"
   ]
  },
  {
   "cell_type": "code",
   "execution_count": null,
   "metadata": {
    "scrolled": true
   },
   "outputs": [],
   "source": [
    "url1 = 'http://eunpyeong.lottemall.co.kr/handler/FloorGuide-Start?brchNoLeftMenu=6&flrNo='\n",
    "url2 = '&flrName='\n",
    "pages=[(40,'B1F'),(41,'1F'),(42,'2F'),(43,'3F'),(44,'4F')]\n",
    "\n",
    "for page1, page2 in pages:\n",
    "    driver.get(url1+str(page1)+url2+str(page2))\n",
    "    names = driver.find_elements_by_css_selector('tr>td.name')\n",
    "    for i, name in enumerate(names):\n",
    "        print(name.get_attribute('innerText'))"
   ]
  },
  {
   "cell_type": "markdown",
   "metadata": {},
   "source": [
    "# 디큐브시티"
   ]
  },
  {
   "cell_type": "code",
   "execution_count": null,
   "metadata": {
    "scrolled": true
   },
   "outputs": [],
   "source": [
    "driver.get('http://www.ehyundai.com/newPortal/DP/FG/FG000000_V.do?branchCd=B00149000')\n",
    "names = driver.find_elements_by_css_selector('.tab_contgroup div.section strong.brand')\n",
    "for i, name in enumerate(names):\n",
    "    print(name.get_attribute('innerText'))"
   ]
  },
  {
   "cell_type": "markdown",
   "metadata": {},
   "source": [
    "# 타임스퀘어"
   ]
  },
  {
   "cell_type": "code",
   "execution_count": null,
   "metadata": {
    "scrolled": true
   },
   "outputs": [],
   "source": [
    "url = 'http://www.timessquare.co.kr/?controller=floor&action=searchList&seq='"
   ]
  },
  {
   "cell_type": "code",
   "execution_count": null,
   "metadata": {
    "scrolled": true
   },
   "outputs": [],
   "source": [
    "page = 0\n",
    "while page < 7:\n",
    "    driver.get(url+str(page))\n",
    "    names = driver.find_elements_by_css_selector('div.title_area > a')\n",
    "    for i, name in enumerate(names):\n",
    "        print(name.text)\n",
    "    page = page+1"
   ]
  },
  {
   "cell_type": "code",
   "execution_count": null,
   "metadata": {
    "scrolled": true
   },
   "outputs": [],
   "source": []
  }
 ],
 "metadata": {
  "kernelspec": {
   "display_name": "Python 3",
   "language": "python",
   "name": "python3"
  },
  "language_info": {
   "codemirror_mode": {
    "name": "ipython",
    "version": 3
   },
   "file_extension": ".py",
   "mimetype": "text/x-python",
   "name": "python",
   "nbconvert_exporter": "python",
   "pygments_lexer": "ipython3",
   "version": "3.6.5"
  }
 },
 "nbformat": 4,
 "nbformat_minor": 2
}
